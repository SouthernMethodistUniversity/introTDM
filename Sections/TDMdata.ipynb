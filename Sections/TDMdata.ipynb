{
 "cells": [
  {
   "cell_type": "markdown",
   "id": "6fbcc1f1",
   "metadata": {},
   "source": [
    "For a discussion of what is text and data mining? Refer to this [introductory session](https://github.com/SouthernMethodistUniversity/introTDM/blob/main/introTDM.md)"
   ]
  },
  {
   "cell_type": "markdown",
   "id": "df417224",
   "metadata": {},
   "source": [
    "# How do you find data for TDM projects ?\n",
    "\n",
    "## Glossary\n",
    " > \"What are the differences between data, a dataset, and a database?\n",
    "  * *Data* are observations or measurements (unprocessed or processed) represented as text, numbers, or multimedia.\n",
    "  * A *dataset* is a structured collection of data generally associated with a unique body of work.\n",
    "  * A *database* is an organized collection of data stored as multiple datasets. Those datasets are generally stored and accessed electronically from a computer system that allows the data to be easily accessed, manipulated, and updated. \n",
    "  - [Definition via USGS](https://www.usgs.gov/faqs/what-are-differences-between-data-dataset-and-database#:~:text=Data%20are%20observations%20or%20measurements,a%20unique%20body%20of%20work.) \n",
    "* For the purposes of this workshop series, we recommend finding an already existing data set for your project, as  creating, cleaning and/or structuring a new dataset is often time and labor intensive. \n",
    "* Read more about [Data Prep and Cleaning](https://digitalhumanities.berkeley.edu/data-prep-and-cleaning) and [Cleaning Text Data](https://medhieval.com/classes/hh2019/labs/cleaning-text-data/)\n"
   ]
  },
  {
   "cell_type": "markdown",
   "id": "e555a1ad",
   "metadata": {
    "jupyter": {
     "source_hidden": true
    },
    "tags": []
   },
   "source": [
    "## What makes a useful dataset?\n",
    "\n",
    "For the purposes of completing a project in a semester, we recommend choosing an already existing 'good' data set so that you can start [your analysis.](https://www.usgs.gov/data-management/analyze)\n",
    "\n",
    "* What do we mean by a 'good' data set? \n",
    "\n",
    "The considerations you should keep in mind for [creating a data set,](https://researchdata.ox.ac.uk/home/managing-your-data-at-oxford/organising-your-data/) are the same things you want to look for when searching for a dataset for research. \n",
    "    \n",
    "   * Is there a [Data dictionary](https://www.usgs.gov/data-management/data-dictionaries) or any kind of documentation that states how the date was derived and why it was recording in the way it was. \n",
    "    \n",
    "   * Good documentation makes material *understandable, verifiable, and reusable* (by you or by others).\n",
    "    \n",
    "   * What are the file naming conventions? \n",
    "    \n",
    "   * Is there metadata ?\n",
    "       * Metadata is simply ‘data about data’.  It is related to the broader contextual information that describes your data, but is usually more structured in that it conforms to set standards and is machine readable.  One typical use of metadata is to create a catalogue record for a dataset held in an archive. By using a standard set of tags, an automatic system can tell where the information about the title, creator, description and so forth begin and end.\n",
    "    \n",
    "   * Data that is not structured or cleaned is referred to as unstructured, noisy or dirty. *A messy data set can be used but you will need to spend time [processing that data:](https://www.usgs.gov/data-management/process) either cleaning, structuring and/or organizing it.* \n"
   ]
  },
  {
   "cell_type": "markdown",
   "id": "6a829f32",
   "metadata": {},
   "source": [
    "# You can search for already existing datasets in the following:\n",
    "\n",
    "**Databases**\n",
    "*Licensed content in Library databases*\n",
    "Some databases allow for text mining. Those are [marked on our A-Z list with ](https://guides.smu.edu/az.php?t=45104) *\n",
    "\n",
    "*Policies for Mining Licensed Content* \n",
    "If you are thinking of basing a research project on data extracted from a library database, contact your [subject librarian](https://www.smu.edu/libraries/help/librarian) to discuss issues around permissions (copyright and licensing agreements), formats and fees.\n",
    "\n",
    "In addition to [copyright](https://www.smu.edu/Libraries/scholarship/copyright) considerations, we must take into account what the database vendors’ own policies specify in regard to this type of use. When providing access to a database, the library enters into licensing agreements, which also dictate what types of data can be extracted and used. Many prohibit text and data mining and the use of software such as scripts, agents, or robots, but it may be possible to negotiate text mining rights."
   ]
  },
  {
   "cell_type": "markdown",
   "id": "271bf250",
   "metadata": {},
   "source": [
    "*Licensed content in Library databases*\n",
    "Some databases allow for text mining. Those are [marked on our A-Z list with the filter Text Mining](https://guides.smu.edu/az.php?t=45104) \n",
    "* [HathiTrust Research Center for TDM](https://github.com/SouthernMethodistUniversity/introTDM/blob/main/Sections/HathiTrustResearchCenter.md)\n",
    "* [JSTOR Constellate for TDM](https://github.com/SouthernMethodistUniversity/introTDM/blob/main/Sections/JSTORConstellate.md)\n",
    "\n",
    "*Policies for Mining Licensed Content* \n",
    "If you are thinking of basing a research project on data extracted from a library database, contact your [subject librarian](https://www.smu.edu/libraries/help/librarian) to discuss issues around permissions (copyright and licensing agreements), formats and fees.\n",
    "\n",
    "In addition to [copyright](https://www.smu.edu/Libraries/scholarship/copyright) considerations, we must take into account what the database vendors’ own policies specify in regard to this type of use. When providing access to a database, the library enters into licensing agreements, which also dictate what types of data can be extracted and used. Many prohibit text and data mining and the use of software such as scripts, agents, or robots, but it may be possible to negotiate text mining rights.\n",
    "\n",
    "**Open access (OA) or Public Domain information**\n",
    "\n",
    "You can [search](https://guides.smu.edu/internetsearching) the open web using a web browser such as Chrome or Firefox, adding specific terms such as: data, datasets, API, file format (such as .csv). [Advanced search](https://www.google.com/advanced_search) options amy also allow for searching for specific file types. \n",
    "Try searching: \n",
    "* [Wikidata](https://www.wikidata.org/wiki/Wikidata:Main_Page)\n",
    "* [Wikipedia](https://en.wikipedia.org/wiki/Main_Page)\n",
    "* [Library of Congress Labs](https://labs.loc.gov/)\n",
    "* [Digital Public Library](https://dp.la/)\n",
    "* [Project Gutenberg](https://www.gutenberg.org/)\n",
    "* You can also look at the archive for [*Data Is Plural* a weekly newsletter of datasets](https://www.data-is-plural.com/)\n",
    "\n",
    "Depending on the the type of data, the collecting agency or you field their might be open access repositories with that data available.\n",
    "* Data collected by the [U.S. government may be publicly available.](https://usafacts.org/data/)\n",
    "* Your discipline may have a OA repository, such as [ARVIX, which has articles in the fields of physics, mathematics, computer science, quantitative biology, quantitative finance, statistics, electrical engineering and systems science, and economics.](https://arxiv.org/)\n",
    "\n",
    "**Data and methodology sections of research and data journalism articles**\n",
    "\n",
    "When reading articles on topics of interest, always pay attention to the *data and methodology sections.* \n",
    "* Where did these researchers find their data set they are using? \n",
    "* If they created it, did they make it accessible in a repository on a website, or a Github repository?\n",
    "\n",
    "Read some data journalism articles on [The Pudding](https://pudding.cool/), [ProPublica](https://www.propublica.org/datastore) or this [roundup of data journalism projects from 2021](https://datajournalism.com/read/blog/best-data-journalism-projects-2021)\n"
   ]
  },
  {
   "cell_type": "markdown",
   "id": "3309b547",
   "metadata": {},
   "source": [
    "Some content on this page adapted from:\n",
    "* [Research Data Oxford](https://researchdata.ox.ac.uk/home/managing-your-data-at-oxford/organising-your-data/) and used under a [Creative Commons Attribution 3.0 Unported License.](https://creativecommons.org/licenses/by/3.0/).\n",
    "* [BOSTON COLLEGE LIBRARIES:Text & Data Mining](https://libguides.bc.edu/textdatamining/overview) and used under a [Creative Commons Attribution 4.0 International License..](https://creativecommons.org/licenses/by/4.0/).\n",
    "* [NYU Text Data Mining](https://guides.nyu.edu/tdm/start)and used under a [ Creative Commons Attribution-NonCommercial 4.0 International License.](https://creativecommons.org/licenses/by-nc/4.0/).\n",
    "* Also see:[USGS data management](https://www.usgs.gov/data-management) "
   ]
  }
 ],
 "metadata": {
  "jupytext": {
   "formats": "ipynb,md"
  },
  "kernelspec": {
   "display_name": "Python 3 (ipykernel)",
   "language": "python",
   "name": "python3"
  },
  "language_info": {
   "codemirror_mode": {
    "name": "ipython",
    "version": 3
   },
   "file_extension": ".py",
   "mimetype": "text/x-python",
   "name": "python",
   "nbconvert_exporter": "python",
   "pygments_lexer": "ipython3",
   "version": "3.9.7"
  }
 },
 "nbformat": 4,
 "nbformat_minor": 5
}
