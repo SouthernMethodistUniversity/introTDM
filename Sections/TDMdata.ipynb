{
 "cells": [
  {
   "cell_type": "markdown",
   "id": "6fbcc1f1",
   "metadata": {},
   "source": [
    "For a discussion of what is text and data mining? Refer to this [introductory session](https://github.com/SouthernMethodistUniversity/introTDM/blob/main/introTDM.md)\n"
   ]
  },
  {
   "cell_type": "markdown",
   "id": "df417224",
   "metadata": {},
   "source": [
    "How do you find data for TDM projects ?  \n",
    "You can search for already existing datasets\n",
    "\n",
    "**Databases**\n",
    "*Licensed content in Library databases*\n",
    "Some databases allow for text mining. Those are [marked on our A-Z list with ](https://guides.smu.edu/az.php?t=45104) *\n",
    "\n",
    "*Policies for Mining Licensed Content* \n",
    "If you are thinking of basing a research project on data extracted from a library database, contact your [subject librarian](https://www.smu.edu/libraries/help/librarian) to discuss issues around permissions (copyright and licensing agreements), formats and fees.\n",
    "\n",
    "In addition to [copyright](https://www.smu.edu/Libraries/scholarship/copyright) considerations, we must take into account what the database vendors’ own policies specify in regard to this type of use. When providing access to a database, the library enters into licensing agreements, which also dictate what types of data can be extracted and used. Many prohibit text and data mining and the use of software such as scripts, agents, or robots, but it may be possible to negotiate text mining rights.\n",
    "\n",
    "**Open access**\n",
    "You can [search](https://guides.smu.edu/internetsearching) adding specific terms such as: data, datasets, API, file format (such as .csv) "
   ]
  },
  {
   "cell_type": "markdown",
   "id": "3309b547",
   "metadata": {},
   "source": [
    "examples \n",
    "https://libguides.bc.edu/textdatamining/overview \n",
    "https://guides.nyu.edu/tdm/start \n",
    "https://guides.lib.uw.edu/research/text-mining"
   ]
  }
 ],
 "metadata": {
  "jupytext": {
   "formats": "ipynb,md"
  },
  "kernelspec": {
   "display_name": "Python 3 (ipykernel)",
   "language": "python",
   "name": "python3"
  },
  "language_info": {
   "codemirror_mode": {
    "name": "ipython",
    "version": 3
   },
   "file_extension": ".py",
   "mimetype": "text/x-python",
   "name": "python",
   "nbconvert_exporter": "python",
   "pygments_lexer": "ipython3",
   "version": "3.9.7"
  }
 },
 "nbformat": 4,
 "nbformat_minor": 5
}
