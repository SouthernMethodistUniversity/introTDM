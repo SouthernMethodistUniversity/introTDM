{
 "cells": [
  {
   "cell_type": "markdown",
   "id": "142b5533",
   "metadata": {},
   "source": [
    "# JSTOR Constellate\n",
    "\n",
    " [Constellate](https://labs.jstor.org/projects/text-mining/) is  text analytics platform aimed at teaching and enabling a generation of researchers to text mine. \n",
    " * Two of ITHAKA’s services, JSTOR and Portico, are the initial sources of content for the new platform, which includes: Chronicling America, collections from Documenting the American South, the South Asia Open Archives and Independent Voices from Reveal Digital.  \n",
    "* [Login into JSTOR through your institituion: SMU](https://login.proxy.libraries.smu.edu/login?url=https://www.jstor.org/). YOu wll see this log in \n",
    "* [Login into your personal JSOTR account] \n",
    "* [Quickstart](https://constellate.org/news/user-quick-start)\n",
    "* [Constellate content sources](https://constellate.org/docs/data-sources/)\n",
    "* [Build a new dataset](https://constellate.org/builder/?start=1900&end=2021)\n",
    "* [Dataset Dashboard and Example datasets](https://constellate.org/dataset/dashboard/)\n",
    "    * Click on Analyze, Visualize or Download\n",
    "* [Working with Dataset Files](https://constellate.org/tutorials/working-with-dataset-files)\n",
    "\n"
   ]
  },
  {
   "cell_type": "markdown",
   "id": "2932d10e",
   "metadata": {},
   "source": [
    "-----\n",
    "[Return to introduction](https://github.com/SouthernMethodistUniversity/introTDM)"
   ]
  }
 ],
 "metadata": {
  "jupytext": {
   "formats": "ipynb,md"
  },
  "kernelspec": {
   "display_name": "Python 3 (ipykernel)",
   "language": "python",
   "name": "python3"
  },
  "language_info": {
   "codemirror_mode": {
    "name": "ipython",
    "version": 3
   },
   "file_extension": ".py",
   "mimetype": "text/x-python",
   "name": "python",
   "nbconvert_exporter": "python",
   "pygments_lexer": "ipython3",
   "version": "3.9.7"
  }
 },
 "nbformat": 4,
 "nbformat_minor": 5
}
