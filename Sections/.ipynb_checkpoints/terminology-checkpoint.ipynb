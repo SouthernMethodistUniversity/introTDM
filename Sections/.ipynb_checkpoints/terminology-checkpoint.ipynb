{
 "cells": [
  {
   "cell_type": "markdown",
   "id": "5903a4a7-4d95-42f3-bd9a-abd27f2f4fb0",
   "metadata": {},
   "source": [
    "# Terminology used in sessions\n",
    "## Text analysis\n",
    "* [Text analysis glossary](https://constellate.org/docs/key-terms/)\n",
    "\n",
    "## What is a Jupyter Notebook?\n",
    "* Jupyter notebooks are documents that contain both computer code (like Python or R) alongside explanatory images, figures, videos, and links. Since they can contain explanatory text and executable code, they are commonly used for introductory workshops and sessions that involve code. \n",
    "    * Recommended Reading:[Getting Started with Jupyter Notebooks](https://constellate.org/tutorials/getting-started-with-jupyter)\n",
    "    * [More information on Jupyter Project documentation](https://docs.jupyter.org/en/latest/)\n",
    "\n",
    "## What is Github? What is a Github repository? \n",
    "* GitHub is a web-based interface that uses Git (open source version control software that lets multiple people make separate changes to web pages at the same time). It allows for version control for files used in collaborative projects, such as workshops. \n",
    "    * [An Introduction to GitHub](https://digital.gov/resources/an-introduction-github/)\n",
    "    * [SMU GitHub Campus Program](https://www.smu.edu/OIT/Services/GitHub)\n",
    "    * [SMU Introduction to Github workshop](https://libcal.smu.edu/calendar/?t=g&q=github&cid=-1&cal=-1&inc=0)\n",
    "\n",
    "-----\n",
    "[Return to introduction](https://github.com/SouthernMethodistUniversity/introTDM)\n",
    "\n",
    "\n",
    "\n",
    "\n",
    "\n",
    "\n",
    "\n",
    "\n",
    "\n",
    "[Constellate, from JSTOR and Portico.](https://labs.jstor.org/projects/text-mining/)\n",
    "\n",
    "-----\n",
    "[Return to introduction](https://github.com/SouthernMethodistUniversity/introTDM)"
   ]
  }
 ],
 "metadata": {
  "jupytext": {
   "formats": "ipynb,md"
  },
  "kernelspec": {
   "display_name": "Python 3 (ipykernel)",
   "language": "python",
   "name": "python3"
  },
  "language_info": {
   "codemirror_mode": {
    "name": "ipython",
    "version": 3
   },
   "file_extension": ".py",
   "mimetype": "text/x-python",
   "name": "python",
   "nbconvert_exporter": "python",
   "pygments_lexer": "ipython3",
   "version": "3.9.7"
  }
 },
 "nbformat": 4,
 "nbformat_minor": 5
}
