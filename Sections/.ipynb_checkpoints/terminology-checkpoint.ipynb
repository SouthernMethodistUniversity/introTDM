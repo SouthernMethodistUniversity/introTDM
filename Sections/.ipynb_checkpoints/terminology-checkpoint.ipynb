{
 "cells": [
  {
   "cell_type": "markdown",
   "id": "5903a4a7-4d95-42f3-bd9a-abd27f2f4fb0",
   "metadata": {},
   "source": [
    "# Terminology used in sessions\n",
    "\n",
    "## Text analysis glossery \n",
    "* [Text analysis glossary](https://constellate.org/docs/key-terms/)\n",
    "\n",
    "\n",
    "# Specific terms\n",
    "\n",
    "\n",
    "## API \n",
    "\n",
    "* What’s an API?\n",
    "\n",
    "\"An API, or Application Programming Interface, is, in general, a defined way for different parts of software systems to talk to each other. A software system is made of many individual parts that must work together to respond to commands or requests. When humans need to talk to each other, we try to use a language that all parties involved can understand, and that language has rules and guidelines that govern how we form words and sentences with particular meanings. Similarly, APIs are built with rules that must be followed for successful interactions.\" [Getting Data for Digital Humanities with APIs: A Gentle Introduction](https://studentwork.prattsi.org/dh/2019/05/13/getting-data-for-digital-humanities-with-apis/)\n",
    "\n",
    "* [IBM Cloud Education: Application Programming Interface (API)](https://www.ibm.com/cloud/learn/api#toc-what-is-an-dhlDsqDX)\n",
    "* [LC for Robots: Explore the many ways the Library of Congress provides machine-readable access to its digital collections.](https://labs.loc.gov/lc-for-robots/)\n",
    "\n",
    "## Github & Github repositories\n",
    "* GitHub is a web-based interface that uses Git (open source version control software that lets multiple people make separate changes to web pages at the same time). It allows for version control for files used in collaborative projects, such as workshops. \n",
    "    * [An Introduction to GitHub](https://digital.gov/resources/an-introduction-github/)\n",
    "    * [SMU GitHub Campus Program](https://www.smu.edu/OIT/Services/GitHub)\n",
    "    * [SMU Introduction to Github workshop](https://libcal.smu.edu/calendar/?t=g&q=github&cid=-1&cal=-1&inc=0)\n",
    "\n",
    "\n",
    "## Jupyter Notebooks\n",
    "* Jupyter notebooks are documents that contain both computer code (like Python or R) alongside explanatory images, figures, videos, and links. Since they can contain explanatory text and executable code, they are commonly used for introductory workshops and sessions that involve code. \n",
    "    * Recommended Reading:[Getting Started with Jupyter Notebooks](https://constellate.org/tutorials/getting-started-with-jupyter)\n",
    "    * [More information on Jupyter Project documentation](https://docs.jupyter.org/en/latest/)\n",
    "\n",
    "\n",
    "\n",
    "## Web Scraping\n",
    "* \"Web scraping, web harvesting, or web data extraction is data scraping used for extracting data from websites. While web scraping can be done manually by a software user, the term typically refers to automated processes implemented using a bot or web crawler. It is a form of copying in which specific data is gathered and copied from the web, typically into a central local database or spreadsheet, for later retrieval or analysis.\" [wikipedia](https://en.wikipedia.org/wiki/Web_scraping)\n",
    "\n",
    "* General rules: You can probably scrape any data that is publicly available and not copyrighted. Commercial use of scraped data may be limited, and do not scrape sites that require authentication (e.g. library subscription databases)\n",
    "\n",
    "See [Web Scraping Toolkit for examples & porcesses](https://github.com/ashleychampagne/Web-Scraping-Toolkit) \n",
    "[Open educational resource of Building Legal Literacies for Text Data Mining](https://update.lib.berkeley.edu/2021/07/26/now-available-open-educational-resource-of-building-legal-literacies-for-text-data-mining/)\n",
    "[Building Legal Literacies for Text Data Mining - UC Berkeley.Link goes to PDF](https://berkeley.pressbooks.pub/buildinglltdm/open/download?type=pdf)\n",
    "Example: [The Gender Novels Project](http://gendernovels.digitalhumanitiesmit.org/info/web_scraping)\n"
   ]
  },
  {
   "cell_type": "markdown",
   "id": "9e12cce9",
   "metadata": {},
   "source": [
    "-----\n",
    "[Return to introduction](https://github.com/SouthernMethodistUniversity/introTDM)"
   ]
  }
 ],
 "metadata": {
  "jupytext": {
   "formats": "ipynb,md"
  },
  "kernelspec": {
   "display_name": "Python 3 (ipykernel)",
   "language": "python",
   "name": "python3"
  },
  "language_info": {
   "codemirror_mode": {
    "name": "ipython",
    "version": 3
   },
   "file_extension": ".py",
   "mimetype": "text/x-python",
   "name": "python",
   "nbconvert_exporter": "python",
   "pygments_lexer": "ipython3",
   "version": "3.9.7"
  }
 },
 "nbformat": 4,
 "nbformat_minor": 5
}
