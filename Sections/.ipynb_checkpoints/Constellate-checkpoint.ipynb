{
 "cells": [
  {
   "cell_type": "markdown",
   "id": "736a7fd0-5614-4965-b27a-44035035d6cd",
   "metadata": {},
   "source": [
    "# JSTOR Constellate\n",
    "\n",
    "\n",
    "\n",
    "\n",
    "\n",
    "\n",
    "\n",
    "\n",
    "\n",
    "\n",
    "\n",
    "\n",
    "-----\n",
    "[Return to introduction](https://github.com/SouthernMethodistUniversity/introTDM)"
   ]
  }
 ],
 "metadata": {
  "jupytext": {
   "formats": "ipynb,md"
  },
  "kernelspec": {
   "display_name": "",
   "name": ""
  },
  "language_info": {
   "name": ""
  }
 },
 "nbformat": 4,
 "nbformat_minor": 5
}
