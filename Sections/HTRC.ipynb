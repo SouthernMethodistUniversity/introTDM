{
 "cells": [
  {
   "cell_type": "markdown",
   "id": "c61fe3a9",
   "metadata": {},
   "source": [
    "# HathiTrust Research Center\n",
    "\n",
    "[HathiTrust Digital Library](https://www.hathitrust.org/digital_library)\n",
    "[HathiTrust Research Center](https://analytics.hathitrust.org/)\n",
    "* The HathiTrust Research Center (HTRC) enables computational analysis of the HathiTrust corpus.\n",
    "\n",
    "[Creating datasets/worksets](https://analytics.hathitrust.org/staticworksets#top)"
   ]
  },
  {
   "attachments": {},
   "cell_type": "markdown",
   "id": "ffba9f74-351a-41ec-b8be-be54c79f2b7b",
   "metadata": {},
   "source": [
    "## Recommended Worksets\n",
    "* [Recommended Worksets](https://analytics.hathitrust.org/staticrecommendedworksets) are curated worksets created by real researchers of projects that utilize resources from the HathiTrust Digital Library and can be analyzed with tools built by the HTRC.\n",
    "\n",
    "##  Algorithms\n",
    "* [HTRC Algorithms](https://analytics.hathitrust.org/statisticalalgorithms) are web-based, click-and-run tools to perform computational text analysis on volumes in the HathiTrust Digital Library. \n",
    "\n",
    "\n",
    "[![HTRC for text analysis](https://github.com/SouthernMethodistUniversity/introTDM/blob/main/images/htrcta.PNG)](https://github.com/SouthernMethodistUniversity/introTDM/blob/main/images/htrcta.PNG)\n",
    "\n",
    "\n",
    "\n",
    "\n",
    "\n",
    "\n",
    "\n",
    "\n",
    "\n",
    "\n"
   ]
  },
  {
   "cell_type": "markdown",
   "id": "339cbbb9",
   "metadata": {},
   "source": [
    "-----\n",
    "[Return to introduction](https://github.com/SouthernMethodistUniversity/introTDM)\n",
    "\n",
    "\n",
    "Some content in this session basesd on [HTRC Digging Deeper, Reaching Further](https://teach.htrc.illinois.edu/teaching-materials/) used under a [Creative Commons Attribution-NonCommercial 4.0 International License.](https://creativecommons.org/licenses/by-nc/4.0/)"
   ]
  }
 ],
 "metadata": {
  "jupytext": {
   "formats": "ipynb,md"
  },
  "kernelspec": {
   "display_name": "Python 3 (ipykernel)",
   "language": "python",
   "name": "python3"
  },
  "language_info": {
   "codemirror_mode": {
    "name": "ipython",
    "version": 3
   },
   "file_extension": ".py",
   "mimetype": "text/x-python",
   "name": "python",
   "nbconvert_exporter": "python",
   "pygments_lexer": "ipython3",
   "version": "3.9.7"
  }
 },
 "nbformat": 4,
 "nbformat_minor": 5
}
